{
 "cells": [
  {
   "cell_type": "code",
   "execution_count": 612,
   "metadata": {},
   "outputs": [],
   "source": [
    "import rasa_nlu\n",
    "import rasa_core\n",
    "from rasa_nlu.model import Metadata, Interpreter\n",
    "\n"
   ]
  },
  {
   "cell_type": "code",
   "execution_count": 613,
   "metadata": {},
   "outputs": [],
   "source": [
    "import pandas as pd\n",
    "df=pd.read_csv('inp.csv', sep='\\t', engine='python')\n"
   ]
  },
  {
   "cell_type": "code",
   "execution_count": 614,
   "metadata": {},
   "outputs": [],
   "source": [
    "\n",
    "def load_model_tag():\n",
    "    list1=[]\n",
    "    interpreter=Interpreter.load('models/current/nlu_model')\n",
    "    for i in range(df.shape[0]):\n",
    "        x=interpreter.parse(df.Post[i])\n",
    "        passed = { key:value for key, value in x.items() if key == 'intent' }\n",
    "        tag=[d['name'] for d in passed.values() if 'name' in d]\n",
    "        list1.append(tag)\n",
    "        \n",
    "    return(list1)"
   ]
  },
  {
   "cell_type": "code",
   "execution_count": 615,
   "metadata": {},
   "outputs": [],
   "source": [
    "\n",
    "def load_model_confidence():\n",
    "    list2=[]\n",
    "    interpreter=Interpreter.load('models/current/nlu_model')\n",
    "    for i in range(df.shape[0]):\n",
    "        x=interpreter.parse(df.Post[i])\n",
    "        passed = { key:value for key, value in x.items() if key == 'intent' }\n",
    "        confidence=[d['confidence'] for d in passed.values() if 'confidence' in d]\n",
    "        \n",
    "        list2.append(confidence)       \n",
    "        \n",
    "    return(list2)"
   ]
  },
  {
   "cell_type": "code",
   "execution_count": 616,
   "metadata": {},
   "outputs": [],
   "source": [
    "\n",
    "def load_2nd_tag():\n",
    "    list3=[]\n",
    "    for i in range(df.shape[0]):\n",
    "        x=interpreter.parse(df.Post[i])\n",
    "        v1={keys:values for keys,values in x.items() if keys==\"intent_ranking\"}\n",
    "        v1=v1['intent_ranking']\n",
    "        nd_tag=[d['name'] for d in v1 if 'name' in d]\n",
    "        nd_tag=nd_tag[1]\n",
    "       # nd_confidence=round(nd_confidence,2)\n",
    "        list3.append(nd_tag)\n",
    "  \n",
    "\n",
    "    return(list3)"
   ]
  },
  {
   "cell_type": "code",
   "execution_count": 617,
   "metadata": {},
   "outputs": [],
   "source": [
    "\n",
    "def load_2nd_confidence():\n",
    "    list4=[]\n",
    "    interpreter=Interpreter.load('models/current/nlu_model')\n",
    "    for i in range(df.shape[0]):\n",
    "        x=interpreter.parse(df.Post[i])\n",
    "        v1={keys:values for keys,values in x.items() if keys==\"intent_ranking\"}\n",
    "        v1=v1['intent_ranking']\n",
    "        nd_confidence=[d['confidence'] for d in v1 if 'confidence' in d]\n",
    "        nd_confidence=nd_confidence[1]\n",
    "        nd_confidence=str(nd_confidence)\n",
    "        list4.append(nd_confidence)\n",
    "    \n",
    "    return(list4)"
   ]
  },
  {
   "cell_type": "code",
   "execution_count": 618,
   "metadata": {},
   "outputs": [
    {
     "name": "stdout",
     "output_type": "stream",
     "text": [
      "INFO:tensorflow:Restoring parameters from models/current/nlu_model\\component_5_EmbeddingIntentClassifier.ckpt\n",
      "INFO:tensorflow:Restoring parameters from models/current/nlu_model\\component_5_EmbeddingIntentClassifier.ckpt\n",
      "INFO:tensorflow:Restoring parameters from models/current/nlu_model\\component_5_EmbeddingIntentClassifier.ckpt\n"
     ]
    }
   ],
   "source": [
    "\n",
    "        \n",
    "model_tag_res=load_model_tag()\n",
    "model_con_res=load_model_confidence()\n",
    "model_2nd_tag_res=load_2nd_tag()\n",
    "model_2nd_confidence=load_2nd_confidence()"
   ]
  },
  {
   "cell_type": "code",
   "execution_count": null,
   "metadata": {},
   "outputs": [],
   "source": []
  },
  {
   "cell_type": "code",
   "execution_count": 619,
   "metadata": {},
   "outputs": [],
   "source": [
    "\n",
    "model_tag_fla_res=[y for x in model_tag_res for y in x]\n",
    "model_tag_fla_con=[y for x in model_con_res for y in x]\n"
   ]
  },
  {
   "cell_type": "code",
   "execution_count": 620,
   "metadata": {},
   "outputs": [],
   "source": [
    "df[\"Tag\"]=model_tag_fla_res\n",
    "df[\"Confidence\"]=model_tag_fla_con\n",
    "df[\"2nd_Tag\"]=model_2nd_tag_res\n",
    "df[\"2nd_confidence\"]=model_2nd_confidence"
   ]
  },
  {
   "cell_type": "code",
   "execution_count": 621,
   "metadata": {},
   "outputs": [],
   "source": [
    "df.to_csv (r'Tag_results.csv', index = None, header=True) #Don't forget to add '.csv' at the end of the path"
   ]
  },
  {
   "cell_type": "code",
   "execution_count": 608,
   "metadata": {},
   "outputs": [
    {
     "name": "stdout",
     "output_type": "stream",
     "text": [
      "     DATE\n",
      "Samung GPE\n",
      "7 CARDINAL\n",
      "HDR ORG\n",
      "Vizio PRODUCT\n",
      "HDMI PERSON\n",
      "Atmos PERSON\n",
      "4 CARDINAL\n",
      "HDMI ORG\n",
      "HDR ORG\n",
      "Atmos PERSON\n",
      "HDR ORG\n",
      "     DATE\n",
      "Netflix PERSON\n",
      "HDR ORG\n",
      "Atmos PERSON\n",
      "     DATE\n",
      "     DATE\n",
      "Model UE50NU7020Soft PRODUCT\n"
     ]
    }
   ],
   "source": [
    "#! python -m spacy download en\n",
    "import spacy\n",
    "import en_core_web_sm\n",
    "nlp = en_core_web_sm.load()\n",
    "doc=nlp(\"Hi,     I got a Samung TV series 7 with HDR support, a Vizio soundar connected by HDMI with Atmos support and an apple TV 4K connected to the sound bar by HDMI.     My issue is that I can have HDR or Atmos, but no both at the same time. When I launch netflix from the apple TV and HDR is turned on, the movie starts flickering.     If I launch the built-in Netflix app I can get HDR but no Atmos.     I already talked to my set-box support and the soundbar manufacturer as well, but no one gives me a solution.     I tried with different ports, different cables, connecting directly the apple TV to my TV, resetting to factory settings, but nothing works.     TV specs:Model UE50NU7020Soft version: 1252     This is my last try, could be something related to the TV? Any setting?     Thanks  \")\n",
    "for ent in doc.ents:\n",
    "    print(ent.text,ent.label_)\n",
    "#doc.similarity(nlp(\"request\"))"
   ]
  },
  {
   "cell_type": "code",
   "execution_count": 621,
   "metadata": {},
   "outputs": [
    {
     "ename": "ImportError",
     "evalue": "cannot import name 'RasaNLUConfig' from 'rasa_nlu.config' (C:\\Users\\Nishali\\Anaconda31\\lib\\site-packages\\rasa_nlu\\config.py)",
     "output_type": "error",
     "traceback": [
      "\u001b[1;31m---------------------------------------------------------------------------\u001b[0m",
      "\u001b[1;31mImportError\u001b[0m                               Traceback (most recent call last)",
      "\u001b[1;32m<ipython-input-621-e0345e57dec3>\u001b[0m in \u001b[0;36m<module>\u001b[1;34m\u001b[0m\n\u001b[1;32m----> 1\u001b[1;33m \u001b[1;32mfrom\u001b[0m \u001b[0mrasa_nlu\u001b[0m\u001b[1;33m.\u001b[0m\u001b[0mconfig\u001b[0m \u001b[1;32mimport\u001b[0m \u001b[0mRasaNLUConfig\u001b[0m\u001b[1;33m\u001b[0m\u001b[1;33m\u001b[0m\u001b[0m\n\u001b[0m\u001b[0;32m      2\u001b[0m \u001b[1;32mfrom\u001b[0m \u001b[0mrasa_nlu\u001b[0m\u001b[1;33m.\u001b[0m\u001b[0mmodel\u001b[0m \u001b[1;32mimport\u001b[0m \u001b[0mTrainer\u001b[0m\u001b[1;33m\u001b[0m\u001b[1;33m\u001b[0m\u001b[0m\n\u001b[0;32m      3\u001b[0m \u001b[0mconfig\u001b[0m\u001b[1;33m=\u001b[0m\u001b[0mRasaNLUConfig\u001b[0m\u001b[1;33m(\u001b[0m\u001b[0mcmdline_args\u001b[0m\u001b[1;33m=\u001b[0m\u001b[1;33m{\u001b[0m\u001b[1;34m\"pipeline\"\u001b[0m\u001b[1;33m:\u001b[0m\u001b[1;34m\"spacy_sklearn\"\u001b[0m\u001b[1;33m}\u001b[0m\u001b[1;33m)\u001b[0m\u001b[1;33m\u001b[0m\u001b[1;33m\u001b[0m\u001b[0m\n\u001b[0;32m      4\u001b[0m \u001b[0mtrainer\u001b[0m\u001b[1;33m=\u001b[0m\u001b[0mTrainer\u001b[0m\u001b[1;33m(\u001b[0m\u001b[0mconfig\u001b[0m\u001b[1;33m)\u001b[0m\u001b[1;33m\u001b[0m\u001b[1;33m\u001b[0m\u001b[0m\n\u001b[0;32m      5\u001b[0m \u001b[0minterpreter\u001b[0m\u001b[1;33m=\u001b[0m\u001b[0mtrainer\u001b[0m\u001b[1;33m.\u001b[0m\u001b[0mtrain\u001b[0m\u001b[1;33m(\u001b[0m\u001b[0mtraining_data\u001b[0m\u001b[1;33m)\u001b[0m\u001b[1;33m\u001b[0m\u001b[1;33m\u001b[0m\u001b[0m\n",
      "\u001b[1;31mImportError\u001b[0m: cannot import name 'RasaNLUConfig' from 'rasa_nlu.config' (C:\\Users\\Nishali\\Anaconda31\\lib\\site-packages\\rasa_nlu\\config.py)"
     ]
    }
   ],
   "source": [
    "from rasa_nlu.config import RasaNLUConfig\n",
    "from rasa_nlu.model import Trainer\n",
    "config=RasaNLUConfig(cmdline_args={\"pipeline\":\"spacy_sklearn\"})\n",
    "trainer=Trainer(config)\n",
    "interpreter=trainer.train(training_data)"
   ]
  }
 ],
 "metadata": {
  "kernelspec": {
   "display_name": "Python 3",
   "language": "python",
   "name": "python3"
  },
  "language_info": {
   "codemirror_mode": {
    "name": "ipython",
    "version": 3
   },
   "file_extension": ".py",
   "mimetype": "text/x-python",
   "name": "python",
   "nbconvert_exporter": "python",
   "pygments_lexer": "ipython3",
   "version": "3.7.3"
  }
 },
 "nbformat": 4,
 "nbformat_minor": 2
}
